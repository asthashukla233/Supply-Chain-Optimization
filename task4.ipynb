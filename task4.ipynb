{
  "nbformat": 4,
  "nbformat_minor": 0,
  "metadata": {
    "colab": {
      "provenance": []
    },
    "kernelspec": {
      "name": "python3",
      "display_name": "Python 3"
    },
    "language_info": {
      "name": "python"
    }
  },
  "cells": [
    {
      "cell_type": "code",
      "execution_count": null,
      "metadata": {
        "colab": {
          "base_uri": "https://localhost:8080/"
        },
        "id": "IKoSAbj3Cf2p",
        "outputId": "0b7cdcbb-4201-4320-dd39-05fc74a7fd52"
      },
      "outputs": [
        {
          "output_type": "stream",
          "name": "stdout",
          "text": [
            "Collecting pulp\n",
            "  Downloading pulp-3.2.1-py3-none-any.whl.metadata (6.9 kB)\n",
            "Requirement already satisfied: kaggle in /usr/local/lib/python3.11/dist-packages (1.7.4.5)\n",
            "Requirement already satisfied: bleach in /usr/local/lib/python3.11/dist-packages (from kaggle) (6.2.0)\n",
            "Requirement already satisfied: certifi>=14.05.14 in /usr/local/lib/python3.11/dist-packages (from kaggle) (2025.6.15)\n",
            "Requirement already satisfied: charset-normalizer in /usr/local/lib/python3.11/dist-packages (from kaggle) (3.4.2)\n",
            "Requirement already satisfied: idna in /usr/local/lib/python3.11/dist-packages (from kaggle) (3.10)\n",
            "Requirement already satisfied: protobuf in /usr/local/lib/python3.11/dist-packages (from kaggle) (5.29.5)\n",
            "Requirement already satisfied: python-dateutil>=2.5.3 in /usr/local/lib/python3.11/dist-packages (from kaggle) (2.9.0.post0)\n",
            "Requirement already satisfied: python-slugify in /usr/local/lib/python3.11/dist-packages (from kaggle) (8.0.4)\n",
            "Requirement already satisfied: requests in /usr/local/lib/python3.11/dist-packages (from kaggle) (2.32.3)\n",
            "Requirement already satisfied: setuptools>=21.0.0 in /usr/local/lib/python3.11/dist-packages (from kaggle) (75.2.0)\n",
            "Requirement already satisfied: six>=1.10 in /usr/local/lib/python3.11/dist-packages (from kaggle) (1.17.0)\n",
            "Requirement already satisfied: text-unidecode in /usr/local/lib/python3.11/dist-packages (from kaggle) (1.3)\n",
            "Requirement already satisfied: tqdm in /usr/local/lib/python3.11/dist-packages (from kaggle) (4.67.1)\n",
            "Requirement already satisfied: urllib3>=1.15.1 in /usr/local/lib/python3.11/dist-packages (from kaggle) (2.4.0)\n",
            "Requirement already satisfied: webencodings in /usr/local/lib/python3.11/dist-packages (from kaggle) (0.5.1)\n",
            "Downloading pulp-3.2.1-py3-none-any.whl (16.4 MB)\n",
            "\u001b[2K   \u001b[90m━━━━━━━━━━━━━━━━━━━━━━━━━━━━━━━━━━━━━━━━\u001b[0m \u001b[32m16.4/16.4 MB\u001b[0m \u001b[31m95.7 MB/s\u001b[0m eta \u001b[36m0:00:00\u001b[0m\n",
            "\u001b[?25hInstalling collected packages: pulp\n",
            "Successfully installed pulp-3.2.1\n"
          ]
        }
      ],
      "source": [
        "# 0️⃣ Install & Import Libraries\n",
        "!pip install pulp kaggle\n",
        "import pandas as pd\n",
        "from pulp import LpProblem, LpMinimize, LpVariable, lpSum, value\n",
        "\n",
        "# 1️⃣ (Optional) Download dataset via Kaggle CLI\n",
        "# kaggle datasets download datasetengineer/logistics-and-supply-chain-dataset\n",
        "# unzip and update the path below.\n"
      ]
    },
    {
      "cell_type": "code",
      "source": [
        "\n",
        "# 2️⃣ Load CSV\n",
        "df = pd.read_csv(\"/content/dynamic_supply_chain_logistics_dataset.csv\")\n",
        "\n",
        "# Inspect columns\n",
        "print(df.columns)\n",
        "print(df.head())\n",
        "\n"
      ],
      "metadata": {
        "colab": {
          "base_uri": "https://localhost:8080/"
        },
        "id": "Uk6C-lB7DgFK",
        "outputId": "cf8b80bc-5ae3-44a6-8f24-f7276bc9cd91"
      },
      "execution_count": null,
      "outputs": [
        {
          "output_type": "stream",
          "name": "stdout",
          "text": [
            "Index(['timestamp', 'vehicle_gps_latitude', 'vehicle_gps_longitude',\n",
            "       'fuel_consumption_rate', 'eta_variation_hours',\n",
            "       'traffic_congestion_level', 'warehouse_inventory_level',\n",
            "       'loading_unloading_time', 'handling_equipment_availability',\n",
            "       'order_fulfillment_status', 'weather_condition_severity',\n",
            "       'port_congestion_level', 'shipping_costs', 'supplier_reliability_score',\n",
            "       'lead_time_days', 'historical_demand', 'iot_temperature',\n",
            "       'cargo_condition_status', 'route_risk_level', 'customs_clearance_time',\n",
            "       'driver_behavior_score', 'fatigue_monitoring_score',\n",
            "       'disruption_likelihood_score', 'delay_probability',\n",
            "       'risk_classification', 'delivery_time_deviation'],\n",
            "      dtype='object')\n",
            "             timestamp  vehicle_gps_latitude  vehicle_gps_longitude  \\\n",
            "0  2021-01-01 00:00:00             40.375568             -77.014318   \n",
            "1  2021-01-01 01:00:00             33.507818            -117.036902   \n",
            "2  2021-01-01 02:00:00             30.020640             -75.269224   \n",
            "3  2021-01-01 03:00:00             36.649223             -70.190529   \n",
            "4  2021-01-01 04:00:00             30.001279             -70.012195   \n",
            "\n",
            "   fuel_consumption_rate  eta_variation_hours  traffic_congestion_level  \\\n",
            "0               5.136512             4.998009                  5.927586   \n",
            "1               5.101512             0.984929                  1.591992   \n",
            "2               5.090803             4.972665                  8.787765   \n",
            "3               8.219558             3.095064                  0.045257   \n",
            "4               5.000075             3.216077                  8.004851   \n",
            "\n",
            "   warehouse_inventory_level  loading_unloading_time  \\\n",
            "0                 985.716862                4.951392   \n",
            "1                 396.700206                1.030379   \n",
            "2                 832.408935                4.220229   \n",
            "3                   0.573283                0.530186   \n",
            "4                 914.925067                3.620890   \n",
            "\n",
            "   handling_equipment_availability  order_fulfillment_status  ...  \\\n",
            "0                         0.481294                  0.761166  ...   \n",
            "1                         0.620780                  0.196594  ...   \n",
            "2                         0.810933                  0.152742  ...   \n",
            "3                         0.008525                  0.811885  ...   \n",
            "4                         0.020083                  0.053659  ...   \n",
            "\n",
            "   iot_temperature  cargo_condition_status  route_risk_level  \\\n",
            "0         0.574400                0.777263          1.182116   \n",
            "1        -9.753493                0.091839          9.611988   \n",
            "2        -6.491034                0.253529          6.570431   \n",
            "3        -0.151276                0.877576          0.548952   \n",
            "4         2.429448                0.262081          8.861443   \n",
            "\n",
            "   customs_clearance_time  driver_behavior_score  fatigue_monitoring_score  \\\n",
            "0                0.502006               0.033843                  0.978599   \n",
            "1                0.966774               0.201725                  0.918586   \n",
            "2                0.945627               0.264045                  0.394215   \n",
            "3                4.674035               0.362885                  0.905444   \n",
            "4                3.445429               0.016957                  0.258702   \n",
            "\n",
            "   disruption_likelihood_score  delay_probability  risk_classification  \\\n",
            "0                     0.506152           0.885291        Moderate Risk   \n",
            "1                     0.980784           0.544178            High Risk   \n",
            "2                     0.998633           0.803322            High Risk   \n",
            "3                     0.993320           0.025977            High Risk   \n",
            "4                     0.912433           0.991122            High Risk   \n",
            "\n",
            "   delivery_time_deviation  \n",
            "0                 9.110682  \n",
            "1                 8.175281  \n",
            "2                 1.283594  \n",
            "3                 9.304897  \n",
            "4                 7.752484  \n",
            "\n",
            "[5 rows x 26 columns]\n"
          ]
        }
      ]
    },
    {
      "cell_type": "code",
      "source": [
        "# 3. Preprocess and filter usable routes\n",
        "df = df.dropna(subset=['shipping_costs', 'traffic_congestion_level', 'supplier_reliability_score',\n",
        "                       'delay_probability', 'warehouse_inventory_level', 'disruption_likelihood_score'])\n",
        "\n",
        "# Filter routes with low disruption and good inventory\n",
        "df = df[(df['warehouse_inventory_level'] > 50) & (df['disruption_likelihood_score'] < 0.6)].reset_index()\n",
        "\n",
        "\n"
      ],
      "metadata": {
        "id": "4LE3DwKSDyS7"
      },
      "execution_count": null,
      "outputs": []
    },
    {
      "cell_type": "code",
      "source": [
        "# 4. Define the optimization problem\n",
        "model = LpProblem(\"Optimal_Delivery_Route_Selection\", LpMinimize)"
      ],
      "metadata": {
        "id": "47wagApuEqg_"
      },
      "execution_count": null,
      "outputs": []
    },
    {
      "cell_type": "code",
      "source": [
        "# Number of routes to select (can be adjusted)\n",
        "ROUTE_LIMIT = 10\n"
      ],
      "metadata": {
        "id": "LH8ecGX4Eqda"
      },
      "execution_count": null,
      "outputs": []
    },
    {
      "cell_type": "code",
      "source": [
        "x = LpVariable.dicts(\"SelectRoute\", df.index, cat='Binary')"
      ],
      "metadata": {
        "id": "Zy7sLesZEqYQ"
      },
      "execution_count": null,
      "outputs": []
    },
    {
      "cell_type": "code",
      "source": [
        "# 6. Define weights and penalties\n",
        "traffic_penalty = 5\n",
        "delay_penalty = 10\n",
        "reliability_benefit = 15"
      ],
      "metadata": {
        "id": "rahfeF4ZEqQK"
      },
      "execution_count": null,
      "outputs": []
    },
    {
      "cell_type": "code",
      "source": [
        "\n",
        "# 7. Objective: Minimize cost + traffic + delay - reliability\n",
        "model += lpSum([\n",
        "    (df.loc[i, 'shipping_costs'] +\n",
        "     df.loc[i, 'traffic_congestion_level'] * traffic_penalty +\n",
        "     df.loc[i, 'delay_probability'] * delay_penalty -\n",
        "     df.loc[i, 'supplier_reliability_score'] * reliability_benefit) * x[i]\n",
        "    for i in df.index\n",
        "]), \"Total_Weighted_Cost\"\n"
      ],
      "metadata": {
        "id": "HiW0OrWlE2Rz"
      },
      "execution_count": null,
      "outputs": []
    },
    {
      "cell_type": "code",
      "source": [
        "model += lpSum([x[i] for i in df.index]) == ROUTE_LIMIT, \"Route_Limit\""
      ],
      "metadata": {
        "id": "zvRXOW51E2Oa"
      },
      "execution_count": null,
      "outputs": []
    },
    {
      "cell_type": "code",
      "source": [
        "# 9. Solve the model\n",
        "model.solve()"
      ],
      "metadata": {
        "colab": {
          "base_uri": "https://localhost:8080/"
        },
        "id": "mXtDnUvlE2Lc",
        "outputId": "d5a48c2d-1c6e-44d3-aeb9-b82f0ba64b0a"
      },
      "execution_count": null,
      "outputs": [
        {
          "output_type": "execute_result",
          "data": {
            "text/plain": [
              "1"
            ]
          },
          "metadata": {},
          "execution_count": 12
        }
      ]
    },
    {
      "cell_type": "code",
      "source": [
        "print(\"🚛 Selected Optimal Routes:\")\n",
        "for i in df.index:\n",
        "    if x[i].value() == 1:\n",
        "        row = df.loc[i]\n",
        "        print(f\"- Route {i}: Cost ₹{row['shipping_costs']}, Traffic {row['traffic_congestion_level']}, Delay Prob {row['delay_probability']}, Reliability {row['supplier_reliability_score']}\")\n"
      ],
      "metadata": {
        "colab": {
          "base_uri": "https://localhost:8080/"
        },
        "id": "KNUtVE30E2I2",
        "outputId": "b1829a79-3d23-43ef-a51c-ac2f0fb42134"
      },
      "execution_count": null,
      "outputs": [
        {
          "output_type": "stream",
          "name": "stdout",
          "text": [
            "🚛 Selected Optimal Routes:\n",
            "- Route 2122: Cost ₹100.01451270025788, Traffic 0.0002348350828762, Delay Prob 0.7717070945715082, Reliability 0.9996981361142818\n",
            "- Route 2315: Cost ₹103.90654229897734, Traffic 0.0988205437016916, Delay Prob 0.0330787811677864, Reliability 0.99305708701213\n",
            "- Route 2761: Cost ₹100.13931816414372, Traffic 0.0019782935860833, Delay Prob 0.1073536332509015, Reliability 0.5966393734687859\n",
            "- Route 2898: Cost ₹100.38661074981108, Traffic 0.0037791385373399, Delay Prob 0.1009031762143384, Reliability 0.494648401923942\n",
            "- Route 3150: Cost ₹100.1732145654583, Traffic 0.4221329263781292, Delay Prob 0.3217559420157662, Reliability 0.7688121775462846\n",
            "- Route 3337: Cost ₹100.19019196732862, Traffic 1.264316255208446, Delay Prob 0.0884461986280809, Reliability 0.9078171455403106\n",
            "- Route 3746: Cost ₹100.13935100985265, Traffic 0.2113706037641032, Delay Prob 0.3157713662656101, Reliability 0.9997324777846848\n",
            "- Route 4082: Cost ₹100.295596232285, Traffic 0.4210524085886721, Delay Prob 0.014578935005002, Reliability 0.9426325643343976\n",
            "- Route 4177: Cost ₹103.2747358911078, Traffic 0.0197065826820941, Delay Prob 0.2685606480106881, Reliability 0.8587482293925823\n",
            "- Route 4304: Cost ₹102.82872805331016, Traffic 0.0395955743028386, Delay Prob 0.0184069271964602, Reliability 0.9491311440449616\n"
          ]
        }
      ]
    },
    {
      "cell_type": "code",
      "source": [
        "import streamlit as st\n",
        "import pandas as pd\n",
        "from pulp import LpProblem, LpMinimize, LpVariable, lpSum, value\n",
        "\n",
        "st.set_page_config(page_title=\"📦 Logistics Optimization Dashboard\", layout=\"wide\")\n",
        "\n",
        "st.title(\"📦 Real-Time Supply Chain Optimization\")\n",
        "\n",
        "# Upload CSV\n",
        "uploaded_file = st.file_uploader(\"Upload your logistics CSV file\", type=[\"csv\"])\n",
        "if uploaded_file:\n",
        "    df = pd.read_csv(uploaded_file)\n",
        "    st.success(\"File uploaded successfully!\")\n",
        "    st.write(\"📊 Preview of dataset:\", df.head())\n",
        "\n",
        "    # Constraint sliders\n",
        "    route_limit = st.slider(\"🚛 Number of Routes to Select\", min_value=1, max_value=50, value=10)\n",
        "    inventory_threshold = st.slider(\"🏭 Min Warehouse Inventory Level\", 0, 200, 50)\n",
        "    disruption_threshold = st.slider(\"⚠️ Max Disruption Likelihood Score\", 0.0, 1.0, 0.6)\n",
        "\n",
        "    # Weights\n",
        "    traffic_penalty = st.slider(\"🚦 Traffic Penalty Multiplier\", 1, 20, 5)\n",
        "    delay_penalty = st.slider(\"⏱️ Delay Penalty Multiplier\", 1, 20, 10)\n",
        "    reliability_benefit = st.slider(\"✅ Reliability Benefit Multiplier\", 1, 30, 15)\n",
        "\n",
        "    # Filter and preprocess\n",
        "    required_cols = ['shipping_costs', 'traffic_congestion_level', 'supplier_reliability_score',\n",
        "                     'delay_probability', 'warehouse_inventory_level', 'disruption_likelihood_score']\n",
        "\n",
        "    if all(col in df.columns for col in required_cols):\n",
        "        df = df.dropna(subset=required_cols)\n",
        "        df = df[(df['warehouse_inventory_level'] > inventory_threshold) &\n",
        "                (df['disruption_likelihood_score'] < disruption_threshold)].reset_index(drop=True)\n",
        "\n",
        "        st.markdown(f\"✅ **Filtered to {len(df)} viable routes.**\")\n",
        "\n",
        "        # Optimization\n",
        "        model = LpProblem(\"Logistics_Optimization\", LpMinimize)\n",
        "        x = LpVariable.dicts(\"SelectRoute\", df.index, cat='Binary')\n",
        "\n",
        "        model += lpSum([\n",
        "            (df.loc[i, 'shipping_costs'] +\n",
        "             df.loc[i, 'traffic_congestion_level'] * traffic_penalty +\n",
        "             df.loc[i, 'delay_probability'] * delay_penalty -\n",
        "             df.loc[i, 'supplier_reliability_score'] * reliability_benefit) * x[i]\n",
        "            for i in df.index\n",
        "        ]), \"Total_Weighted_Cost\"\n",
        "\n",
        "        model += lpSum([x[i] for i in df.index]) == route_limit, \"Route_Limit\"\n",
        "\n",
        "        if st.button(\"🚀 Optimize Routes\"):\n",
        "            model.solve()\n",
        "            selected = [i for i in df.index if x[i].value() == 1]\n",
        "            selected_df = df.loc[selected]\n",
        "\n",
        "            st.subheader(\"✅ Optimized Route Selection\")\n",
        "            st.write(selected_df)\n",
        "\n",
        "            st.metric(\"💰 Total Minimized Cost\", f\"₹{value(model.objective):.2f}\")\n",
        "            st.download_button(\"📥 Download Optimized Routes as CSV\",\n",
        "                               selected_df.to_csv(index=False), file_name=\"optimized_routes.csv\")\n",
        "    else:\n",
        "        st.error(\"❌ Dataset is missing required columns.\")\n"
      ],
      "metadata": {
        "colab": {
          "base_uri": "https://localhost:8080/"
        },
        "id": "b-WOnjkSFTc9",
        "outputId": "c6cc4252-dbb1-493c-9792-6c31007b8a09"
      },
      "execution_count": null,
      "outputs": [
        {
          "output_type": "stream",
          "name": "stderr",
          "text": [
            "2025-06-22 14:41:30.921 WARNING streamlit.runtime.scriptrunner_utils.script_run_context: Thread 'MainThread': missing ScriptRunContext! This warning can be ignored when running in bare mode.\n",
            "2025-06-22 14:41:30.927 WARNING streamlit.runtime.scriptrunner_utils.script_run_context: Thread 'MainThread': missing ScriptRunContext! This warning can be ignored when running in bare mode.\n",
            "2025-06-22 14:41:31.105 \n",
            "  \u001b[33m\u001b[1mWarning:\u001b[0m to view this Streamlit app on a browser, run it with the following\n",
            "  command:\n",
            "\n",
            "    streamlit run /usr/local/lib/python3.11/dist-packages/colab_kernel_launcher.py [ARGUMENTS]\n",
            "2025-06-22 14:41:31.111 Thread 'MainThread': missing ScriptRunContext! This warning can be ignored when running in bare mode.\n",
            "2025-06-22 14:41:31.116 Thread 'MainThread': missing ScriptRunContext! This warning can be ignored when running in bare mode.\n",
            "2025-06-22 14:41:31.122 Thread 'MainThread': missing ScriptRunContext! This warning can be ignored when running in bare mode.\n",
            "2025-06-22 14:41:31.125 Thread 'MainThread': missing ScriptRunContext! This warning can be ignored when running in bare mode.\n",
            "2025-06-22 14:41:31.129 Thread 'MainThread': missing ScriptRunContext! This warning can be ignored when running in bare mode.\n",
            "2025-06-22 14:41:31.131 Thread 'MainThread': missing ScriptRunContext! This warning can be ignored when running in bare mode.\n",
            "2025-06-22 14:41:31.133 Thread 'MainThread': missing ScriptRunContext! This warning can be ignored when running in bare mode.\n",
            "2025-06-22 14:41:31.137 Thread 'MainThread': missing ScriptRunContext! This warning can be ignored when running in bare mode.\n"
          ]
        }
      ]
    },
    {
      "cell_type": "code",
      "source": [
        "import gradio as gr\n",
        "import pandas as pd\n",
        "from pulp import LpProblem, LpMinimize, LpVariable, lpSum, value\n",
        "import tempfile\n",
        "\n",
        "def optimize_routes(file, route_limit, inventory_threshold, disruption_threshold,\n",
        "                    traffic_penalty, delay_penalty, reliability_benefit):\n",
        "\n",
        "    df = pd.read_csv(file.name)\n",
        "\n",
        "    required_cols = ['shipping_costs', 'traffic_congestion_level', 'supplier_reliability_score',\n",
        "                     'delay_probability', 'warehouse_inventory_level', 'disruption_likelihood_score']\n",
        "\n",
        "    if not all(col in df.columns for col in required_cols):\n",
        "        return \"❌ Dataset is missing required columns.\", None\n",
        "\n",
        "    # Filter rows\n",
        "    df = df.dropna(subset=required_cols)\n",
        "    df = df[(df['warehouse_inventory_level'] > inventory_threshold) &\n",
        "            (df['disruption_likelihood_score'] < disruption_threshold)]\n",
        "\n",
        "    if len(df) == 0:\n",
        "        return \"❌ No valid routes after filtering. Adjust your constraints.\", None\n",
        "\n",
        "    # Limit to top 500 lowest shipping cost routes\n",
        "    df = df.nsmallest(500, 'shipping_costs').reset_index(drop=True)\n",
        "\n",
        "    if len(df) < route_limit:\n",
        "        return f\"❌ Only {len(df)} valid routes available. Lower the route limit.\", None\n",
        "\n",
        "    # Setup LP Model\n",
        "    model = LpProblem(\"Fast_Logistics_Optimization\", LpMinimize)\n",
        "    x = LpVariable.dicts(\"SelectRoute\", df.index, lowBound=0, upBound=1, cat='Continuous')  # continuous approx\n",
        "\n",
        "    model += lpSum([\n",
        "        (df.loc[i, 'shipping_costs'] +\n",
        "         df.loc[i, 'traffic_congestion_level'] * traffic_penalty +\n",
        "         df.loc[i, 'delay_probability'] * delay_penalty -\n",
        "         df.loc[i, 'supplier_reliability_score'] * reliability_benefit) * x[i]\n",
        "        for i in df.index\n",
        "    ])\n",
        "\n",
        "    model += lpSum([x[i] for i in df.index]) == route_limit, \"Route_Limit\"\n",
        "\n",
        "    # Solve\n",
        "    model.solve()\n",
        "\n",
        "    # Select top x[i] values (approx 1.0 means chosen)\n",
        "    selected = sorted(df.index, key=lambda i: -x[i].value())[:route_limit]\n",
        "    selected_df = df.loc[selected]\n",
        "\n",
        "    # Save results\n",
        "    temp_csv = tempfile.NamedTemporaryFile(delete=False, suffix=\".csv\")\n",
        "    selected_df.to_csv(temp_csv.name, index=False)\n",
        "\n",
        "    return selected_df, temp_csv.name\n",
        "\n",
        "# Gradio UI\n",
        "iface = gr.Interface(\n",
        "    fn=optimize_routes,\n",
        "    inputs=[\n",
        "        gr.File(label=\"Upload Logistics CSV\"),\n",
        "        gr.Slider(1, 50, value=10, label=\"🚚 Number of Routes to Select\"),\n",
        "        gr.Slider(0, 200, value=50, label=\"🏭 Min Warehouse Inventory\"),\n",
        "        gr.Slider(0.0, 1.0, value=0.6, label=\"⚠️ Max Disruption Score\"),\n",
        "        gr.Slider(1, 20, value=5, label=\"🚦 Traffic Penalty\"),\n",
        "        gr.Slider(1, 20, value=10, label=\"⏱️ Delay Penalty\"),\n",
        "        gr.Slider(1, 30, value=15, label=\"✅ Reliability Benefit\"),\n",
        "    ],\n",
        "    outputs=[\n",
        "        gr.Dataframe(label=\"✅ Optimized Routes\"),\n",
        "        gr.File(label=\"📥 Download Selected Routes CSV\")\n",
        "    ],\n",
        "    title=\"📦 Fast Logistics Optimization Dashboard\",\n",
        "    description=\"Upload a large logistics dataset and get optimized shipping routes in seconds.\",\n",
        "    theme=\"soft\"\n",
        ")\n",
        "\n",
        "iface.launch()\n"
      ],
      "metadata": {
        "colab": {
          "base_uri": "https://localhost:8080/",
          "height": 646
        },
        "id": "hiTV2FgSFYvy",
        "outputId": "9939f373-26f1-4620-c39f-f43ee7c9f1ce"
      },
      "execution_count": null,
      "outputs": [
        {
          "output_type": "stream",
          "name": "stdout",
          "text": [
            "It looks like you are running Gradio on a hosted a Jupyter notebook. For the Gradio app to work, sharing must be enabled. Automatically setting `share=True` (you can turn this off by setting `share=False` in `launch()` explicitly).\n",
            "\n",
            "Colab notebook detected. To show errors in colab notebook, set debug=True in launch()\n",
            "* Running on public URL: https://ae8799a48dcccc4eae.gradio.live\n",
            "\n",
            "This share link expires in 1 week. For free permanent hosting and GPU upgrades, run `gradio deploy` from the terminal in the working directory to deploy to Hugging Face Spaces (https://huggingface.co/spaces)\n"
          ]
        },
        {
          "output_type": "display_data",
          "data": {
            "text/plain": [
              "<IPython.core.display.HTML object>"
            ],
            "text/html": [
              "<div><iframe src=\"https://ae8799a48dcccc4eae.gradio.live\" width=\"100%\" height=\"500\" allow=\"autoplay; camera; microphone; clipboard-read; clipboard-write;\" frameborder=\"0\" allowfullscreen></iframe></div>"
            ]
          },
          "metadata": {}
        },
        {
          "output_type": "execute_result",
          "data": {
            "text/plain": []
          },
          "metadata": {},
          "execution_count": 18
        }
      ]
    },
    {
      "cell_type": "code",
      "source": [],
      "metadata": {
        "id": "--zcn3qsGBQi"
      },
      "execution_count": null,
      "outputs": []
    }
  ]
}